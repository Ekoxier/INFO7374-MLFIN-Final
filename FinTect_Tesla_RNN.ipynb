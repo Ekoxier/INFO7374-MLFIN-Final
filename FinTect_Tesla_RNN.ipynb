{
 "cells": [
  {
   "cell_type": "code",
   "execution_count": 19,
   "id": "edaf65c3",
   "metadata": {},
   "outputs": [
    {
     "name": "stdout",
     "output_type": "stream",
     "text": [
      "[*********************100%***********************]  1 of 1 completed\n"
     ]
    }
   ],
   "source": [
    "import yfinance as yf\n",
    "import pandas as pd\n",
    "import numpy as np\n",
    "from sklearn.tree import DecisionTreeRegressor\n",
    "from sklearn.linear_model import LassoLarsCV\n",
    "from sklearn.ensemble import RandomForestRegressor\n",
    "from sklearn.linear_model import Ridge\n",
    "import xgboost as xgb\n",
    "from sklearn.feature_selection import SelectFromModel\n",
    "import getFamaFrenchFactors as gff\n",
    "import matplotlib.pyplot as plt\n",
    "from sklearn.preprocessing import StandardScaler\n",
    "\n",
    "\n",
    "# Define the ticker symbol for Tesla\n",
    "ticker = 'TSLA'\n",
    "\n",
    "# Define the start and end dates for the data\n",
    "start_date = '2016-01-01'\n",
    "end_date = '2022-01-01'\n",
    "\n",
    "# Download the data from Yahoo Finance\n",
    "tsla = yf.download(ticker, start=start_date, end=end_date)"
   ]
  },
  {
   "cell_type": "code",
   "execution_count": 20,
   "id": "2355bf4d",
   "metadata": {},
   "outputs": [
    {
     "data": {
      "text/html": [
       "<div>\n",
       "<style scoped>\n",
       "    .dataframe tbody tr th:only-of-type {\n",
       "        vertical-align: middle;\n",
       "    }\n",
       "\n",
       "    .dataframe tbody tr th {\n",
       "        vertical-align: top;\n",
       "    }\n",
       "\n",
       "    .dataframe thead th {\n",
       "        text-align: right;\n",
       "    }\n",
       "</style>\n",
       "<table border=\"1\" class=\"dataframe\">\n",
       "  <thead>\n",
       "    <tr style=\"text-align: right;\">\n",
       "      <th></th>\n",
       "      <th>Open</th>\n",
       "      <th>High</th>\n",
       "      <th>Low</th>\n",
       "      <th>Close</th>\n",
       "      <th>Adj Close</th>\n",
       "      <th>Volume</th>\n",
       "    </tr>\n",
       "    <tr>\n",
       "      <th>Date</th>\n",
       "      <th></th>\n",
       "      <th></th>\n",
       "      <th></th>\n",
       "      <th></th>\n",
       "      <th></th>\n",
       "      <th></th>\n",
       "    </tr>\n",
       "  </thead>\n",
       "  <tbody>\n",
       "    <tr>\n",
       "      <th>2016-01-04 00:00:00-05:00</th>\n",
       "      <td>15.381333</td>\n",
       "      <td>15.425333</td>\n",
       "      <td>14.600000</td>\n",
       "      <td>14.894000</td>\n",
       "      <td>14.894000</td>\n",
       "      <td>102406500</td>\n",
       "    </tr>\n",
       "    <tr>\n",
       "      <th>2016-01-05 00:00:00-05:00</th>\n",
       "      <td>15.090667</td>\n",
       "      <td>15.126000</td>\n",
       "      <td>14.666667</td>\n",
       "      <td>14.895333</td>\n",
       "      <td>14.895333</td>\n",
       "      <td>47802000</td>\n",
       "    </tr>\n",
       "    <tr>\n",
       "      <th>2016-01-06 00:00:00-05:00</th>\n",
       "      <td>14.666667</td>\n",
       "      <td>14.670000</td>\n",
       "      <td>14.398667</td>\n",
       "      <td>14.602667</td>\n",
       "      <td>14.602667</td>\n",
       "      <td>56686500</td>\n",
       "    </tr>\n",
       "    <tr>\n",
       "      <th>2016-01-07 00:00:00-05:00</th>\n",
       "      <td>14.279333</td>\n",
       "      <td>14.562667</td>\n",
       "      <td>14.244667</td>\n",
       "      <td>14.376667</td>\n",
       "      <td>14.376667</td>\n",
       "      <td>53314500</td>\n",
       "    </tr>\n",
       "    <tr>\n",
       "      <th>2016-01-08 00:00:00-05:00</th>\n",
       "      <td>14.524000</td>\n",
       "      <td>14.696000</td>\n",
       "      <td>14.051333</td>\n",
       "      <td>14.066667</td>\n",
       "      <td>14.066667</td>\n",
       "      <td>54421500</td>\n",
       "    </tr>\n",
       "  </tbody>\n",
       "</table>\n",
       "</div>"
      ],
      "text/plain": [
       "                                Open       High        Low      Close  \\\n",
       "Date                                                                    \n",
       "2016-01-04 00:00:00-05:00  15.381333  15.425333  14.600000  14.894000   \n",
       "2016-01-05 00:00:00-05:00  15.090667  15.126000  14.666667  14.895333   \n",
       "2016-01-06 00:00:00-05:00  14.666667  14.670000  14.398667  14.602667   \n",
       "2016-01-07 00:00:00-05:00  14.279333  14.562667  14.244667  14.376667   \n",
       "2016-01-08 00:00:00-05:00  14.524000  14.696000  14.051333  14.066667   \n",
       "\n",
       "                           Adj Close     Volume  \n",
       "Date                                             \n",
       "2016-01-04 00:00:00-05:00  14.894000  102406500  \n",
       "2016-01-05 00:00:00-05:00  14.895333   47802000  \n",
       "2016-01-06 00:00:00-05:00  14.602667   56686500  \n",
       "2016-01-07 00:00:00-05:00  14.376667   53314500  \n",
       "2016-01-08 00:00:00-05:00  14.066667   54421500  "
      ]
     },
     "execution_count": 20,
     "metadata": {},
     "output_type": "execute_result"
    }
   ],
   "source": [
    "tsla.head()"
   ]
  },
  {
   "cell_type": "code",
   "execution_count": 21,
   "id": "18b24864",
   "metadata": {},
   "outputs": [],
   "source": [
    "data_to_use = tsla['Close'].values"
   ]
  },
  {
   "cell_type": "markdown",
   "id": "bfddfbdb",
   "metadata": {},
   "source": [
    "# Data Preprocessing \n",
    "\n",
    "## Scaling data"
   ]
  },
  {
   "cell_type": "code",
   "execution_count": 22,
   "id": "64619109",
   "metadata": {},
   "outputs": [],
   "source": [
    "scaler =StandardScaler()"
   ]
  },
  {
   "cell_type": "code",
   "execution_count": 23,
   "id": "132a3a91",
   "metadata": {},
   "outputs": [],
   "source": [
    "scaled_data =scaler.fit_transform(data_to_use.reshape(-1,1))"
   ]
  },
  {
   "cell_type": "code",
   "execution_count": 24,
   "id": "500e47c0",
   "metadata": {},
   "outputs": [
    {
     "data": {
      "image/png": "[encoded data removed]",
      "text/plain": [
       "<Figure size 864x504 with 1 Axes>"
      ]
     },
     "metadata": {},
     "output_type": "display_data"
    }
   ],
   "source": [
    "plt.figure(figsize=(12,7), frameon=False, facecolor='brown', edgecolor='blue')\n",
    "plt.title('Scaled TESLA stocks from January 2016 to January 2022')\n",
    "plt.xlabel('Days')\n",
    "plt.ylabel('Scaled value of stocks')\n",
    "plt.plot(scaled_data, label='Stocks data')\n",
    "plt.legend()\n",
    "plt.show()"
   ]
  },
  {
   "cell_type": "code",
   "execution_count": 17,
   "id": "9c44773a",
   "metadata": {},
   "outputs": [],
   "source": [
    "from datetime import datetime\n",
    "date_parser = lambda x: datetime.strptime(x, '%Y:%m:%d')\n",
    "ads_data = pd.read_excel(\"ads_index_010622.xlsx\", parse_dates=['Date'], date_parser=date_parser)\n",
    "new_ads_data = ads_data[['Date', 'ADS_INDEX_010622']].set_index('Date')"
   ]
  },
  {
   "cell_type": "code",
   "execution_count": 26,
   "id": "be11094a",
   "metadata": {},
   "outputs": [
    {
     "name": "stderr",
     "output_type": "stream",
     "text": [
      "C:\\Users\\aishw\\AppData\\Local\\Temp/ipykernel_11884/2553565514.py:4: SettingWithCopyWarning: \n",
      "A value is trying to be set on a copy of a slice from a DataFrame\n",
      "\n",
      "See the caveats in the documentation: https://pandas.pydata.org/pandas-docs/stable/user_guide/indexing.html#returning-a-view-versus-a-copy\n",
      "  tsla['direction'][0] = 0\n"
     ]
    }
   ],
   "source": [
    "\n",
    "# Calculate OBV\n",
    "tsla['daily_return'] = tesla['Adj Close'].pct_change()\n",
    "tsla['direction'] = np.where(tsla['daily_return'] >= 0, 1, -1)\n",
    "tsla['direction'][0] = 0\n",
    "tsla['vol_adjusted'] = tsla['Volume'] * tsla['direction']\n",
    "tsla['OBV'] = tsla['vol_adjusted'].cumsum()"
   ]
  },
  {
   "cell_type": "code",
   "execution_count": 27,
   "id": "121b7a32",
   "metadata": {},
   "outputs": [
    {
     "name": "stdout",
     "output_type": "stream",
     "text": [
      "[*********************100%***********************]  1 of 1 completed\n",
      "[*********************100%***********************]  1 of 1 completed\n",
      "[*********************100%***********************]  1 of 1 completed\n",
      "[*********************100%***********************]  1 of 1 completed\n",
      "[*********************100%***********************]  1 of 1 completed\n",
      "[*********************100%***********************]  1 of 1 completed\n",
      "[*********************100%***********************]  1 of 1 completed\n",
      "[*********************100%***********************]  1 of 1 completed\n",
      "[*********************100%***********************]  1 of 1 completed\n",
      "[*********************100%***********************]  1 of 1 completed\n",
      "[*********************100%***********************]  1 of 1 completed\n"
     ]
    }
   ],
   "source": [
    "\n",
    "sp500 = yf.download('^GSPC', start=start_date, end=end_date)\n",
    "aapl = yf.download('AAPL', start=start_date, end=end_date)\n",
    "amzn = yf.download('AMZN', start=start_date, end=end_date)\n",
    "goog = yf.download('GOOG', start=start_date, end=end_date)\n",
    "cma = yf.download('CMA', start=start_date, end=end_date)\n",
    "btc = yf.download('BTC-USD', start=start_date, end=end_date)\n",
    "eth = yf.download('ETH-USD', start=start_date, end=end_date)\n",
    "xrp = yf.download('XRP-USD', start=start_date, end=end_date)\n",
    "ltc = yf.download('LTC-USD', start=start_date, end=end_date)\n",
    "ada = yf.download('ADA-USD', start=start_date, end=end_date)\n",
    "vix = yf.download('^VIX', start=start_date, end=end_date)\n"
   ]
  },
  {
   "cell_type": "code",
   "execution_count": 28,
   "id": "3b3a6d13",
   "metadata": {},
   "outputs": [],
   "source": [
    "\n",
    "# Calculate additional features\n",
    "tsla['mom_5_20'] = (tsla['Close'] / tsla['Close'].shift(5)) - 1\n",
    "tsla['mom_20_100'] = (tsla['Close'] / tsla['Close'].shift(20)) - 1\n",
    "tsla['mom_60_200'] = (tsla['Close'] / tsla['Close'].shift(60)) - 1"
   ]
  },
  {
   "cell_type": "code",
   "execution_count": 32,
   "id": "23baf99d",
   "metadata": {},
   "outputs": [
    {
     "name": "stdout",
     "output_type": "stream",
     "text": [
      "Requirement already satisfied: ta in c:\\users\\aishw\\anaconda3\\lib\\site-packages (0.10.2)\n",
      "Requirement already satisfied: numpy in c:\\users\\aishw\\anaconda3\\lib\\site-packages (from ta) (1.22.4)\n",
      "Requirement already satisfied: pandas in c:\\users\\aishw\\anaconda3\\lib\\site-packages (from ta) (1.3.4)\n",
      "Requirement already satisfied: pytz>=2017.3 in c:\\users\\aishw\\anaconda3\\lib\\site-packages (from pandas->ta) (2022.7.1)\n",
      "Requirement already satisfied: python-dateutil>=2.7.3 in c:\\users\\aishw\\anaconda3\\lib\\site-packages (from pandas->ta) (2.8.2)\n",
      "Requirement already satisfied: six>=1.5 in c:\\users\\aishw\\anaconda3\\lib\\site-packages (from python-dateutil>=2.7.3->pandas->ta) (1.16.0)\n",
      "Note: you may need to restart the kernel to use updated packages.\n"
     ]
    }
   ],
   "source": [
    "%pip install ta \n",
    "from ta.momentum import RSIIndicator\n",
    "from ta.trend import MACD"
   ]
  },
  {
   "cell_type": "code",
   "execution_count": 33,
   "id": "2f85152f",
   "metadata": {},
   "outputs": [
    {
     "name": "stdout",
     "output_type": "stream",
     "text": [
      "[*********************100%***********************]  1 of 1 completed\n",
      "\n",
      "1 Failed download:\n",
      "- BKCN: No timezone found, symbol may be delisted\n",
      "[*********************100%***********************]  1 of 1 completed\n",
      "                                  Open         High          Low        Close  \\\n",
      "Date                                                                            \n",
      "2021-03-11 00:00:00+08:00  5024.560059  5138.410156  5020.580078  5128.220215   \n",
      "2021-03-12 00:00:00+08:00  5153.669922  5153.669922  5086.819824  5146.379883   \n",
      "2021-03-15 00:00:00+08:00  5116.120117  5120.879883  4992.399902  5035.540039   \n",
      "2021-03-16 00:00:00+08:00  5054.410156  5084.310059  5009.950195  5079.359863   \n",
      "2021-03-17 00:00:00+08:00  5062.770020  5123.549805  5020.129883  5100.859863   \n",
      "\n",
      "                             Adj Close  Volume  \n",
      "Date                                            \n",
      "2021-03-11 00:00:00+08:00  5128.220215  189600  \n",
      "2021-03-12 00:00:00+08:00  5146.379883  201000  \n",
      "2021-03-15 00:00:00+08:00  5035.540039  204200  \n",
      "2021-03-16 00:00:00+08:00  5079.359863  161400  \n",
      "2021-03-17 00:00:00+08:00  5100.859863  149200  \n",
      "Empty DataFrame\n",
      "Columns: [Open, High, Low, Close, Adj Close, Volume]\n",
      "Index: []\n"
     ]
    }
   ],
   "source": [
    "bkcn_df = yf.download(\"BKCN\", start_date, end_date)\n",
    "shsz300_df = yf.download(\"000300.SS\", start_date, end_date)\n",
    "rsi_indicator = RSIIndicator(close=tsla['Adj Close'], window=14)\n",
    "macd_indicator = MACD(close=tsla['Adj Close'])\n",
    "\n",
    "tsla['rsi'] = rsi_indicator.rsi()\n",
    "tsla['macd'] = macd_indicator.macd()\n",
    "\n",
    "print(shsz300_df.head())\n",
    "print(bkcn_df.head())"
   ]
  },
  {
   "cell_type": "code",
   "execution_count": 92,
   "id": "96fecbb5",
   "metadata": {},
   "outputs": [
    {
     "ename": "ValueError",
     "evalue": "cannot insert level_0, already exists",
     "output_type": "error",
     "traceback": [
      "\u001b[1;31m---------------------------------------------------------------------------\u001b[0m",
      "\u001b[1;31mValueError\u001b[0m                                Traceback (most recent call last)",
      "\u001b[1;32m~\\AppData\\Local\\Temp/ipykernel_11884/341735658.py\u001b[0m in \u001b[0;36m<module>\u001b[1;34m\u001b[0m\n\u001b[0;32m      2\u001b[0m \u001b[1;32mfor\u001b[0m \u001b[0mx\u001b[0m \u001b[1;32min\u001b[0m \u001b[1;33m[\u001b[0m\u001b[0msp500\u001b[0m\u001b[1;33m,\u001b[0m\u001b[0maapl\u001b[0m\u001b[1;33m,\u001b[0m\u001b[0mamzn\u001b[0m\u001b[1;33m,\u001b[0m\u001b[0mgoog\u001b[0m\u001b[1;33m,\u001b[0m\u001b[0mtsla\u001b[0m\u001b[1;33m,\u001b[0m\u001b[0mcma\u001b[0m\u001b[1;33m,\u001b[0m\u001b[0mbtc\u001b[0m\u001b[1;33m,\u001b[0m\u001b[0meth\u001b[0m\u001b[1;33m,\u001b[0m\u001b[0mxrp\u001b[0m\u001b[1;33m,\u001b[0m\u001b[0mltc\u001b[0m\u001b[1;33m,\u001b[0m\u001b[0mada\u001b[0m\u001b[1;33m,\u001b[0m\u001b[0mff_data\u001b[0m\u001b[1;33m,\u001b[0m\u001b[0mvix\u001b[0m\u001b[1;33m,\u001b[0m\u001b[0mnew_ads_data\u001b[0m\u001b[1;33m,\u001b[0m\u001b[0mshsz300_df\u001b[0m\u001b[1;33m,\u001b[0m\u001b[0mbkcn_df\u001b[0m\u001b[1;33m]\u001b[0m\u001b[1;33m:\u001b[0m\u001b[1;33m\u001b[0m\u001b[1;33m\u001b[0m\u001b[0m\n\u001b[0;32m      3\u001b[0m     \u001b[1;32mif\u001b[0m \u001b[1;34m'Date'\u001b[0m \u001b[1;32min\u001b[0m \u001b[0mx\u001b[0m\u001b[1;33m.\u001b[0m\u001b[0mcolumns\u001b[0m\u001b[1;33m:\u001b[0m\u001b[1;33m\u001b[0m\u001b[1;33m\u001b[0m\u001b[0m\n\u001b[1;32m----> 4\u001b[1;33m         \u001b[0mx\u001b[0m\u001b[1;33m.\u001b[0m\u001b[0mreset_index\u001b[0m\u001b[1;33m(\u001b[0m\u001b[0minplace\u001b[0m\u001b[1;33m=\u001b[0m\u001b[1;32mTrue\u001b[0m\u001b[1;33m)\u001b[0m\u001b[1;33m\u001b[0m\u001b[1;33m\u001b[0m\u001b[0m\n\u001b[0m\u001b[0;32m      5\u001b[0m         \u001b[0mx\u001b[0m\u001b[1;33m[\u001b[0m\u001b[1;34m'Date'\u001b[0m\u001b[1;33m]\u001b[0m \u001b[1;33m=\u001b[0m \u001b[0mpd\u001b[0m\u001b[1;33m.\u001b[0m\u001b[0mto_datetime\u001b[0m\u001b[1;33m(\u001b[0m\u001b[0mx\u001b[0m\u001b[1;33m[\u001b[0m\u001b[1;34m'Date'\u001b[0m\u001b[1;33m]\u001b[0m\u001b[1;33m)\u001b[0m\u001b[1;33m.\u001b[0m\u001b[0mdt\u001b[0m\u001b[1;33m.\u001b[0m\u001b[0mdate\u001b[0m\u001b[1;33m\u001b[0m\u001b[1;33m\u001b[0m\u001b[0m\n\u001b[0;32m      6\u001b[0m \u001b[1;33m\u001b[0m\u001b[0m\n",
      "\u001b[1;32m~\\anaconda3\\lib\\site-packages\\pandas\\util\\_decorators.py\u001b[0m in \u001b[0;36mwrapper\u001b[1;34m(*args, **kwargs)\u001b[0m\n\u001b[0;32m    309\u001b[0m                     \u001b[0mstacklevel\u001b[0m\u001b[1;33m=\u001b[0m\u001b[0mstacklevel\u001b[0m\u001b[1;33m,\u001b[0m\u001b[1;33m\u001b[0m\u001b[1;33m\u001b[0m\u001b[0m\n\u001b[0;32m    310\u001b[0m                 )\n\u001b[1;32m--> 311\u001b[1;33m             \u001b[1;32mreturn\u001b[0m \u001b[0mfunc\u001b[0m\u001b[1;33m(\u001b[0m\u001b[1;33m*\u001b[0m\u001b[0margs\u001b[0m\u001b[1;33m,\u001b[0m \u001b[1;33m**\u001b[0m\u001b[0mkwargs\u001b[0m\u001b[1;33m)\u001b[0m\u001b[1;33m\u001b[0m\u001b[1;33m\u001b[0m\u001b[0m\n\u001b[0m\u001b[0;32m    312\u001b[0m \u001b[1;33m\u001b[0m\u001b[0m\n\u001b[0;32m    313\u001b[0m         \u001b[1;32mreturn\u001b[0m \u001b[0mwrapper\u001b[0m\u001b[1;33m\u001b[0m\u001b[1;33m\u001b[0m\u001b[0m\n",
      "\u001b[1;32m~\\anaconda3\\lib\\site-packages\\pandas\\core\\frame.py\u001b[0m in \u001b[0;36mreset_index\u001b[1;34m(self, level, drop, inplace, col_level, col_fill)\u001b[0m\n\u001b[0;32m   5797\u001b[0m                     )\n\u001b[0;32m   5798\u001b[0m \u001b[1;33m\u001b[0m\u001b[0m\n\u001b[1;32m-> 5799\u001b[1;33m                 \u001b[0mnew_obj\u001b[0m\u001b[1;33m.\u001b[0m\u001b[0minsert\u001b[0m\u001b[1;33m(\u001b[0m\u001b[1;36m0\u001b[0m\u001b[1;33m,\u001b[0m \u001b[0mname\u001b[0m\u001b[1;33m,\u001b[0m \u001b[0mlevel_values\u001b[0m\u001b[1;33m)\u001b[0m\u001b[1;33m\u001b[0m\u001b[1;33m\u001b[0m\u001b[0m\n\u001b[0m\u001b[0;32m   5800\u001b[0m \u001b[1;33m\u001b[0m\u001b[0m\n\u001b[0;32m   5801\u001b[0m         \u001b[0mnew_obj\u001b[0m\u001b[1;33m.\u001b[0m\u001b[0mindex\u001b[0m \u001b[1;33m=\u001b[0m \u001b[0mnew_index\u001b[0m\u001b[1;33m\u001b[0m\u001b[1;33m\u001b[0m\u001b[0m\n",
      "\u001b[1;32m~\\anaconda3\\lib\\site-packages\\pandas\\core\\frame.py\u001b[0m in \u001b[0;36minsert\u001b[1;34m(self, loc, column, value, allow_duplicates)\u001b[0m\n\u001b[0;32m   4412\u001b[0m         \u001b[1;32mif\u001b[0m \u001b[1;32mnot\u001b[0m \u001b[0mallow_duplicates\u001b[0m \u001b[1;32mand\u001b[0m \u001b[0mcolumn\u001b[0m \u001b[1;32min\u001b[0m \u001b[0mself\u001b[0m\u001b[1;33m.\u001b[0m\u001b[0mcolumns\u001b[0m\u001b[1;33m:\u001b[0m\u001b[1;33m\u001b[0m\u001b[1;33m\u001b[0m\u001b[0m\n\u001b[0;32m   4413\u001b[0m             \u001b[1;31m# Should this be a different kind of error??\u001b[0m\u001b[1;33m\u001b[0m\u001b[1;33m\u001b[0m\u001b[0m\n\u001b[1;32m-> 4414\u001b[1;33m             \u001b[1;32mraise\u001b[0m \u001b[0mValueError\u001b[0m\u001b[1;33m(\u001b[0m\u001b[1;34mf\"cannot insert {column}, already exists\"\u001b[0m\u001b[1;33m)\u001b[0m\u001b[1;33m\u001b[0m\u001b[1;33m\u001b[0m\u001b[0m\n\u001b[0m\u001b[0;32m   4415\u001b[0m         \u001b[1;32mif\u001b[0m \u001b[1;32mnot\u001b[0m \u001b[0misinstance\u001b[0m\u001b[1;33m(\u001b[0m\u001b[0mloc\u001b[0m\u001b[1;33m,\u001b[0m \u001b[0mint\u001b[0m\u001b[1;33m)\u001b[0m\u001b[1;33m:\u001b[0m\u001b[1;33m\u001b[0m\u001b[1;33m\u001b[0m\u001b[0m\n\u001b[0;32m   4416\u001b[0m             \u001b[1;32mraise\u001b[0m \u001b[0mTypeError\u001b[0m\u001b[1;33m(\u001b[0m\u001b[1;34m\"loc must be int\"\u001b[0m\u001b[1;33m)\u001b[0m\u001b[1;33m\u001b[0m\u001b[1;33m\u001b[0m\u001b[0m\n",
      "\u001b[1;31mValueError\u001b[0m: cannot insert level_0, already exists"
     ]
    }
   ],
   "source": [
    "# Reset index and convert all dates to same timezones, so they become mergable\n",
    "for x in [sp500,aapl,amzn,goog,tsla,cma,btc,eth,xrp,ltc,ada,ff_data,vix,new_ads_data,shsz300_df,bkcn_df]:\n",
    "    if 'Date' in x.columns:\n",
    "        x.reset_index(inplace=True)\n",
    "        x['Date'] = pd.to_datetime(x['Date']).dt.date\n",
    "\n",
    "tsla = ff_data.merge(tsla,on='Date')\n",
    "tsla = new_ads_data.merge(tsla,on='Date')\n",
    "    \n",
    "## CORRECTION - Need to merge FF data according to date here\n",
    "\n",
    "df_regressor = pd.DataFrame({\n",
    "    'AAPL_Adj_Close':aapl['Adj Close'].shift(1),\n",
    "    'XRP_Adj_Close':xrp['Adj Close'].shift(1),\n",
    "    'LTC_Adj_Close':ltc['Adj Close'].shift(1),\n",
    "    'ADA_Adj_Close':ada['Adj Close'].shift(1),\n",
    "    'Fama_French_Mkt_RF':tsla['Mkt-RF'].shift(1), \n",
    "    'avg_close_20_days_': tsla['Adj Close'].rolling(window=20).mean().shift(1),\n",
    "    'avg_Close_50_days':tsla['Adj Close'].rolling(window=50).mean().shift(1),\n",
    "    'ADS_INDEX': tsla['ADS_INDEX_010622'].shift(1),\n",
    "#     'bkcn_Adj_Close':bkcn_df['Adj Close'].shift(1),\n",
    "    'TSLA_RSI': tsla['rsi'].shift(1),\n",
    "    \n",
    "})\n",
    "\n",
    "\n",
    "# Remove any rows with missing data\n",
    "df_regressor.dropna(inplace=True)\n",
    "print(df_regressor.head)\n",
    "print(df_regressor.shape)\n",
    "\n",
    "\n",
    "scaler = StandardScaler()\n",
    "X = scaler.fit_transform(df_regressor)\n",
    "# Split the data into features (X) and target (y)\n",
    "y = df_regressor['Adj Close']\n",
    "df_regressor = df_regressor.drop(columns=['Adj Close'],axis=1)\n",
    "X = df_regressor"
   ]
  },
  {
   "cell_type": "code",
   "execution_count": 93,
   "id": "0b2b5713",
   "metadata": {},
   "outputs": [],
   "source": [
    "from sklearn.preprocessing import MinMaxScaler\n",
    "from keras.models import Sequential\n",
    "from keras.layers import LSTM, Dense\n",
    "from sklearn.metrics import mean_squared_error\n",
    "\n",
    "# Load the data into a Pandas DataFrame\n",
    "df_regressor = pd.DataFrame({\n",
    "    'AAPL_Adj_Close':aapl['Adj Close'].shift(1),\n",
    "    'XRP_Adj_Close':xrp['Adj Close'].shift(1),\n",
    "    'LTC_Adj_Close':ltc['Adj Close'].shift(1),\n",
    "    'ADA_Adj_Close':ada['Adj Close'].shift(1),\n",
    "    'Fama_French_Mkt_RF':tsla['Mkt-RF'].shift(1), \n",
    "    'avg_close_20_days_': tsla['Adj Close'].rolling(window=20).mean().shift(1),\n",
    "    'avg_Close_50_days':tsla['Adj Close'].rolling(window=50).mean().shift(1),\n",
    "    'ADS_INDEX': tsla['ADS_INDEX_010622'].shift(1),\n",
    "    'TSLA_RSI': tsla['rsi'].shift(1),\n",
    "})\n"
   ]
  },
  {
   "cell_type": "code",
   "execution_count": 94,
   "id": "134802a5",
   "metadata": {},
   "outputs": [],
   "source": [
    "# Drop any rows with missing values\n",
    "df_regressor = df_regressor.dropna()"
   ]
  },
  {
   "cell_type": "code",
   "execution_count": 75,
   "id": "a8345475",
   "metadata": {},
   "outputs": [],
   "source": [
    "# Split the data into training and testing sets\n",
    "train_size = int(len(df_regressor) * 0.8)\n",
    "train_data = df_regressor[:train_size].values\n",
    "test_data = df_regressor[train_size:].values"
   ]
  },
  {
   "cell_type": "code",
   "execution_count": 76,
   "id": "4b660083",
   "metadata": {},
   "outputs": [],
   "source": [
    "# Normalize the data to improve training performance\n",
    "scaler = MinMaxScaler(feature_range=(0, 1))\n",
    "train_data = scaler.fit_transform(train_data)\n",
    "test_data = scaler.transform(test_data)"
   ]
  },
  {
   "cell_type": "code",
   "execution_count": 77,
   "id": "7830a570",
   "metadata": {},
   "outputs": [],
   "source": [
    "# Define the input and output dimensions of the model\n",
    "input_dim = train_data.shape[1] - 1\n",
    "output_dim = 1"
   ]
  },
  {
   "cell_type": "code",
   "execution_count": 78,
   "id": "ed309c46",
   "metadata": {},
   "outputs": [],
   "source": [
    "\n",
    "# Create the training and testing datasets for the RNN model\n",
    "X_train, y_train = train_data[:, :-1], train_data[:, -1]\n",
    "X_test, y_test = test_data[:, :-1], test_data[:, -1]\n"
   ]
  },
  {
   "cell_type": "code",
   "execution_count": 79,
   "id": "23ada526",
   "metadata": {},
   "outputs": [],
   "source": [
    "\n",
    "# Reshape the input data for compatibility with the LSTM layer\n",
    "X_train = np.reshape(X_train, (X_train.shape[0], 1, X_train.shape[1]))\n",
    "X_test = np.reshape(X_test, (X_test.shape[0], 1, X_test.shape[1]))\n"
   ]
  },
  {
   "cell_type": "code",
   "execution_count": 80,
   "id": "4bb5e993",
   "metadata": {},
   "outputs": [],
   "source": [
    "# Define the architecture of the RNN model\n",
    "model = Sequential()\n",
    "model.add(LSTM(50, input_shape=(X_train.shape[1], X_train.shape[2])))\n",
    "model.add(Dense(1))"
   ]
  },
  {
   "cell_type": "code",
   "execution_count": 81,
   "id": "bf1167fa",
   "metadata": {},
   "outputs": [],
   "source": [
    "# Compile the model with an appropriate loss function and optimizer\n",
    "model.compile(loss='mse', optimizer='adam')"
   ]
  },
  {
   "cell_type": "code",
   "execution_count": 82,
   "id": "3f9da874",
   "metadata": {},
   "outputs": [
    {
     "name": "stdout",
     "output_type": "stream",
     "text": [
      "Epoch 1/50\n",
      "37/37 - 2s - loss: 0.1293 - val_loss: 0.0602 - 2s/epoch - 46ms/step\n",
      "Epoch 2/50\n",
      "37/37 - 0s - loss: 0.0352 - val_loss: 0.2096 - 111ms/epoch - 3ms/step\n",
      "Epoch 3/50\n",
      "37/37 - 0s - loss: 0.0307 - val_loss: 0.0720 - 86ms/epoch - 2ms/step\n",
      "Epoch 4/50\n",
      "37/37 - 0s - loss: 0.0298 - val_loss: 0.0440 - 93ms/epoch - 3ms/step\n",
      "Epoch 5/50\n",
      "37/37 - 0s - loss: 0.0293 - val_loss: 0.0336 - 86ms/epoch - 2ms/step\n",
      "Epoch 6/50\n",
      "37/37 - 0s - loss: 0.0290 - val_loss: 0.0280 - 98ms/epoch - 3ms/step\n",
      "Epoch 7/50\n",
      "37/37 - 0s - loss: 0.0286 - val_loss: 0.0269 - 109ms/epoch - 3ms/step\n",
      "Epoch 8/50\n",
      "37/37 - 0s - loss: 0.0283 - val_loss: 0.0271 - 113ms/epoch - 3ms/step\n",
      "Epoch 9/50\n",
      "37/37 - 0s - loss: 0.0282 - val_loss: 0.0308 - 100ms/epoch - 3ms/step\n",
      "Epoch 10/50\n",
      "37/37 - 0s - loss: 0.0279 - val_loss: 0.0290 - 129ms/epoch - 3ms/step\n",
      "Epoch 11/50\n",
      "37/37 - 0s - loss: 0.0277 - val_loss: 0.0408 - 126ms/epoch - 3ms/step\n",
      "Epoch 12/50\n",
      "37/37 - 0s - loss: 0.0275 - val_loss: 0.0472 - 138ms/epoch - 4ms/step\n",
      "Epoch 13/50\n",
      "37/37 - 0s - loss: 0.0274 - val_loss: 0.0489 - 137ms/epoch - 4ms/step\n",
      "Epoch 14/50\n",
      "37/37 - 0s - loss: 0.0271 - val_loss: 0.0574 - 158ms/epoch - 4ms/step\n",
      "Epoch 15/50\n",
      "37/37 - 0s - loss: 0.0269 - val_loss: 0.0779 - 164ms/epoch - 4ms/step\n",
      "Epoch 16/50\n",
      "37/37 - 0s - loss: 0.0271 - val_loss: 0.0843 - 184ms/epoch - 5ms/step\n",
      "Epoch 17/50\n",
      "37/37 - 0s - loss: 0.0268 - val_loss: 0.1017 - 193ms/epoch - 5ms/step\n",
      "Epoch 18/50\n",
      "37/37 - 0s - loss: 0.0264 - val_loss: 0.0615 - 138ms/epoch - 4ms/step\n",
      "Epoch 19/50\n",
      "37/37 - 0s - loss: 0.0266 - val_loss: 0.0930 - 197ms/epoch - 5ms/step\n",
      "Epoch 20/50\n",
      "37/37 - 0s - loss: 0.0263 - val_loss: 0.0980 - 95ms/epoch - 3ms/step\n",
      "Epoch 21/50\n",
      "37/37 - 0s - loss: 0.0262 - val_loss: 0.1190 - 75ms/epoch - 2ms/step\n",
      "Epoch 22/50\n",
      "37/37 - 0s - loss: 0.0260 - val_loss: 0.1209 - 108ms/epoch - 3ms/step\n",
      "Epoch 23/50\n",
      "37/37 - 0s - loss: 0.0260 - val_loss: 0.1576 - 87ms/epoch - 2ms/step\n",
      "Epoch 24/50\n",
      "37/37 - 0s - loss: 0.0259 - val_loss: 0.1456 - 77ms/epoch - 2ms/step\n",
      "Epoch 25/50\n",
      "37/37 - 0s - loss: 0.0258 - val_loss: 0.1436 - 70ms/epoch - 2ms/step\n",
      "Epoch 26/50\n",
      "37/37 - 0s - loss: 0.0258 - val_loss: 0.1526 - 86ms/epoch - 2ms/step\n",
      "Epoch 27/50\n",
      "37/37 - 0s - loss: 0.0257 - val_loss: 0.1621 - 110ms/epoch - 3ms/step\n",
      "Epoch 28/50\n",
      "37/37 - 0s - loss: 0.0256 - val_loss: 0.1653 - 82ms/epoch - 2ms/step\n",
      "Epoch 29/50\n",
      "37/37 - 0s - loss: 0.0255 - val_loss: 0.1771 - 73ms/epoch - 2ms/step\n",
      "Epoch 30/50\n",
      "37/37 - 0s - loss: 0.0256 - val_loss: 0.2109 - 87ms/epoch - 2ms/step\n",
      "Epoch 31/50\n",
      "37/37 - 0s - loss: 0.0255 - val_loss: 0.1779 - 85ms/epoch - 2ms/step\n",
      "Epoch 32/50\n",
      "37/37 - 0s - loss: 0.0254 - val_loss: 0.1955 - 114ms/epoch - 3ms/step\n",
      "Epoch 33/50\n",
      "37/37 - 0s - loss: 0.0253 - val_loss: 0.1739 - 92ms/epoch - 2ms/step\n",
      "Epoch 34/50\n",
      "37/37 - 0s - loss: 0.0252 - val_loss: 0.1935 - 92ms/epoch - 2ms/step\n",
      "Epoch 35/50\n",
      "37/37 - 0s - loss: 0.0252 - val_loss: 0.2326 - 76ms/epoch - 2ms/step\n",
      "Epoch 36/50\n",
      "37/37 - 0s - loss: 0.0251 - val_loss: 0.2238 - 76ms/epoch - 2ms/step\n",
      "Epoch 37/50\n",
      "37/37 - 0s - loss: 0.0251 - val_loss: 0.1592 - 85ms/epoch - 2ms/step\n",
      "Epoch 38/50\n",
      "37/37 - 0s - loss: 0.0251 - val_loss: 0.1898 - 124ms/epoch - 3ms/step\n",
      "Epoch 39/50\n",
      "37/37 - 0s - loss: 0.0249 - val_loss: 0.1843 - 133ms/epoch - 4ms/step\n",
      "Epoch 40/50\n",
      "37/37 - 0s - loss: 0.0249 - val_loss: 0.2029 - 93ms/epoch - 3ms/step\n",
      "Epoch 41/50\n",
      "37/37 - 0s - loss: 0.0249 - val_loss: 0.2234 - 106ms/epoch - 3ms/step\n",
      "Epoch 42/50\n",
      "37/37 - 0s - loss: 0.0248 - val_loss: 0.2278 - 135ms/epoch - 4ms/step\n",
      "Epoch 43/50\n",
      "37/37 - 0s - loss: 0.0246 - val_loss: 0.1933 - 121ms/epoch - 3ms/step\n",
      "Epoch 44/50\n",
      "37/37 - 0s - loss: 0.0246 - val_loss: 0.1846 - 125ms/epoch - 3ms/step\n",
      "Epoch 45/50\n",
      "37/37 - 0s - loss: 0.0244 - val_loss: 0.1922 - 93ms/epoch - 3ms/step\n",
      "Epoch 46/50\n",
      "37/37 - 0s - loss: 0.0244 - val_loss: 0.1816 - 99ms/epoch - 3ms/step\n",
      "Epoch 47/50\n",
      "37/37 - 0s - loss: 0.0242 - val_loss: 0.1567 - 105ms/epoch - 3ms/step\n",
      "Epoch 48/50\n",
      "37/37 - 0s - loss: 0.0241 - val_loss: 0.2448 - 104ms/epoch - 3ms/step\n",
      "Epoch 49/50\n",
      "37/37 - 0s - loss: 0.0240 - val_loss: 0.2287 - 70ms/epoch - 2ms/step\n",
      "Epoch 50/50\n",
      "37/37 - 0s - loss: 0.0242 - val_loss: 0.2288 - 68ms/epoch - 2ms/step\n"
     ]
    },
    {
     "data": {
      "text/plain": [
       "<keras.callbacks.History at 0x244d2c25490>"
      ]
     },
     "execution_count": 82,
     "metadata": {},
     "output_type": "execute_result"
    }
   ],
   "source": [
    "\n",
    "# Train the model on the training data\n",
    "model.fit(X_train, y_train, epochs=50, batch_size=32, validation_data=(X_test, y_test), verbose=2)"
   ]
  },
  {
   "cell_type": "code",
   "execution_count": 84,
   "id": "03cf4695",
   "metadata": {},
   "outputs": [
    {
     "name": "stdout",
     "output_type": "stream",
     "text": [
      "Test MSE: 0.229\n"
     ]
    }
   ],
   "source": [
    "# Evaluate the model on the testing data\n",
    "mse = model.evaluate(X_test, y_test, verbose=0)\n",
    "print('Test MSE: %.3f' % mse)"
   ]
  },
  {
   "cell_type": "code",
   "execution_count": 85,
   "id": "d5a8b7ab",
   "metadata": {},
   "outputs": [
    {
     "name": "stdout",
     "output_type": "stream",
     "text": [
      "10/10 [==============================] - 0s 1ms/step\n"
     ]
    }
   ],
   "source": [
    "# Make predictions on the testing data\n",
    "y_pred = model.predict(X_test)"
   ]
  },
  {
   "cell_type": "code",
   "execution_count": 89,
   "id": "ebff82c6",
   "metadata": {},
   "outputs": [
    {
     "ename": "ValueError",
     "evalue": "non-broadcastable output operand with shape (293,1) doesn't match the broadcast shape (293,9)",
     "output_type": "error",
     "traceback": [
      "\u001b[1;31m---------------------------------------------------------------------------\u001b[0m",
      "\u001b[1;31mValueError\u001b[0m                                Traceback (most recent call last)",
      "\u001b[1;32m~\\AppData\\Local\\Temp/ipykernel_11884/1208594307.py\u001b[0m in \u001b[0;36m<module>\u001b[1;34m\u001b[0m\n\u001b[0;32m      1\u001b[0m \u001b[1;31m# Scale the predicted and actual outputs back to their original ranges\u001b[0m\u001b[1;33m\u001b[0m\u001b[1;33m\u001b[0m\u001b[0m\n\u001b[1;32m----> 2\u001b[1;33m \u001b[0my_pred\u001b[0m \u001b[1;33m=\u001b[0m \u001b[0mscaler\u001b[0m\u001b[1;33m.\u001b[0m\u001b[0minverse_transform\u001b[0m\u001b[1;33m(\u001b[0m\u001b[0my_pred\u001b[0m\u001b[1;33m)\u001b[0m\u001b[1;33m\u001b[0m\u001b[1;33m\u001b[0m\u001b[0m\n\u001b[0m\u001b[0;32m      3\u001b[0m \u001b[0my_test\u001b[0m \u001b[1;33m=\u001b[0m \u001b[0mscaler\u001b[0m\u001b[1;33m.\u001b[0m\u001b[0minverse_transform\u001b[0m\u001b[1;33m(\u001b[0m\u001b[0my_test\u001b[0m\u001b[1;33m.\u001b[0m\u001b[0mreshape\u001b[0m\u001b[1;33m(\u001b[0m\u001b[1;33m-\u001b[0m\u001b[1;36m1\u001b[0m\u001b[1;33m,\u001b[0m\u001b[1;36m1\u001b[0m\u001b[1;33m)\u001b[0m\u001b[1;33m)\u001b[0m\u001b[1;33m\u001b[0m\u001b[1;33m\u001b[0m\u001b[0m\n",
      "\u001b[1;32m~\\anaconda3\\lib\\site-packages\\sklearn\\preprocessing\\_data.py\u001b[0m in \u001b[0;36minverse_transform\u001b[1;34m(self, X)\u001b[0m\n\u001b[0;32m    459\u001b[0m                         force_all_finite=\"allow-nan\")\n\u001b[0;32m    460\u001b[0m \u001b[1;33m\u001b[0m\u001b[0m\n\u001b[1;32m--> 461\u001b[1;33m         \u001b[0mX\u001b[0m \u001b[1;33m-=\u001b[0m \u001b[0mself\u001b[0m\u001b[1;33m.\u001b[0m\u001b[0mmin_\u001b[0m\u001b[1;33m\u001b[0m\u001b[1;33m\u001b[0m\u001b[0m\n\u001b[0m\u001b[0;32m    462\u001b[0m         \u001b[0mX\u001b[0m \u001b[1;33m/=\u001b[0m \u001b[0mself\u001b[0m\u001b[1;33m.\u001b[0m\u001b[0mscale_\u001b[0m\u001b[1;33m\u001b[0m\u001b[1;33m\u001b[0m\u001b[0m\n\u001b[0;32m    463\u001b[0m         \u001b[1;32mreturn\u001b[0m \u001b[0mX\u001b[0m\u001b[1;33m\u001b[0m\u001b[1;33m\u001b[0m\u001b[0m\n",
      "\u001b[1;31mValueError\u001b[0m: non-broadcastable output operand with shape (293,1) doesn't match the broadcast shape (293,9)"
     ]
    }
   ],
   "source": [
    "# Scale the predicted and actual outputs back to their original ranges\n",
    "y_pred = scaler.inverse_transform(y_pred)\n",
    "y_test = scaler.inverse_transform(y_test.reshape(-1,1))"
   ]
  },
  {
   "cell_type": "code",
   "execution_count": 87,
   "id": "0746fa39",
   "metadata": {},
   "outputs": [
    {
     "ename": "TypeError",
     "evalue": "Singleton array 0.3258988334261558 cannot be considered a valid collection.",
     "output_type": "error",
     "traceback": [
      "\u001b[1;31m---------------------------------------------------------------------------\u001b[0m",
      "\u001b[1;31mTypeError\u001b[0m                                 Traceback (most recent call last)",
      "\u001b[1;32m~\\AppData\\Local\\Temp/ipykernel_11884/594695814.py\u001b[0m in \u001b[0;36m<module>\u001b[1;34m\u001b[0m\n\u001b[0;32m      1\u001b[0m \u001b[1;31m# Calculate the root mean squared error of the predictions\u001b[0m\u001b[1;33m\u001b[0m\u001b[1;33m\u001b[0m\u001b[0m\n\u001b[1;32m----> 2\u001b[1;33m \u001b[0mrmse\u001b[0m \u001b[1;33m=\u001b[0m \u001b[0mnp\u001b[0m\u001b[1;33m.\u001b[0m\u001b[0msqrt\u001b[0m\u001b[1;33m(\u001b[0m\u001b[0mmean_squared_error\u001b[0m\u001b[1;33m(\u001b[0m\u001b[0my_test\u001b[0m\u001b[1;33m[\u001b[0m\u001b[1;36m0\u001b[0m\u001b[1;33m]\u001b[0m\u001b[1;33m,\u001b[0m \u001b[0my_pred\u001b[0m\u001b[1;33m[\u001b[0m\u001b[1;33m:\u001b[0m\u001b[1;33m,\u001b[0m\u001b[1;36m0\u001b[0m\u001b[1;33m]\u001b[0m\u001b[1;33m)\u001b[0m\u001b[1;33m)\u001b[0m\u001b[1;33m\u001b[0m\u001b[1;33m\u001b[0m\u001b[0m\n\u001b[0m\u001b[0;32m      3\u001b[0m \u001b[0mprint\u001b[0m\u001b[1;33m(\u001b[0m\u001b[1;34m'Test RMSE: %.3f'\u001b[0m \u001b[1;33m%\u001b[0m \u001b[0mrmse\u001b[0m\u001b[1;33m)\u001b[0m\u001b[1;33m\u001b[0m\u001b[1;33m\u001b[0m\u001b[0m\n",
      "\u001b[1;32m~\\anaconda3\\lib\\site-packages\\sklearn\\utils\\validation.py\u001b[0m in \u001b[0;36minner_f\u001b[1;34m(*args, **kwargs)\u001b[0m\n\u001b[0;32m     61\u001b[0m             \u001b[0mextra_args\u001b[0m \u001b[1;33m=\u001b[0m \u001b[0mlen\u001b[0m\u001b[1;33m(\u001b[0m\u001b[0margs\u001b[0m\u001b[1;33m)\u001b[0m \u001b[1;33m-\u001b[0m \u001b[0mlen\u001b[0m\u001b[1;33m(\u001b[0m\u001b[0mall_args\u001b[0m\u001b[1;33m)\u001b[0m\u001b[1;33m\u001b[0m\u001b[1;33m\u001b[0m\u001b[0m\n\u001b[0;32m     62\u001b[0m             \u001b[1;32mif\u001b[0m \u001b[0mextra_args\u001b[0m \u001b[1;33m<=\u001b[0m \u001b[1;36m0\u001b[0m\u001b[1;33m:\u001b[0m\u001b[1;33m\u001b[0m\u001b[1;33m\u001b[0m\u001b[0m\n\u001b[1;32m---> 63\u001b[1;33m                 \u001b[1;32mreturn\u001b[0m \u001b[0mf\u001b[0m\u001b[1;33m(\u001b[0m\u001b[1;33m*\u001b[0m\u001b[0margs\u001b[0m\u001b[1;33m,\u001b[0m \u001b[1;33m**\u001b[0m\u001b[0mkwargs\u001b[0m\u001b[1;33m)\u001b[0m\u001b[1;33m\u001b[0m\u001b[1;33m\u001b[0m\u001b[0m\n\u001b[0m\u001b[0;32m     64\u001b[0m \u001b[1;33m\u001b[0m\u001b[0m\n\u001b[0;32m     65\u001b[0m             \u001b[1;31m# extra_args > 0\u001b[0m\u001b[1;33m\u001b[0m\u001b[1;33m\u001b[0m\u001b[0m\n",
      "\u001b[1;32m~\\anaconda3\\lib\\site-packages\\sklearn\\metrics\\_regression.py\u001b[0m in \u001b[0;36mmean_squared_error\u001b[1;34m(y_true, y_pred, sample_weight, multioutput, squared)\u001b[0m\n\u001b[0;32m    333\u001b[0m     \u001b[1;36m0.825\u001b[0m\u001b[1;33m...\u001b[0m\u001b[1;33m\u001b[0m\u001b[1;33m\u001b[0m\u001b[0m\n\u001b[0;32m    334\u001b[0m     \"\"\"\n\u001b[1;32m--> 335\u001b[1;33m     y_type, y_true, y_pred, multioutput = _check_reg_targets(\n\u001b[0m\u001b[0;32m    336\u001b[0m         y_true, y_pred, multioutput)\n\u001b[0;32m    337\u001b[0m     \u001b[0mcheck_consistent_length\u001b[0m\u001b[1;33m(\u001b[0m\u001b[0my_true\u001b[0m\u001b[1;33m,\u001b[0m \u001b[0my_pred\u001b[0m\u001b[1;33m,\u001b[0m \u001b[0msample_weight\u001b[0m\u001b[1;33m)\u001b[0m\u001b[1;33m\u001b[0m\u001b[1;33m\u001b[0m\u001b[0m\n",
      "\u001b[1;32m~\\anaconda3\\lib\\site-packages\\sklearn\\metrics\\_regression.py\u001b[0m in \u001b[0;36m_check_reg_targets\u001b[1;34m(y_true, y_pred, multioutput, dtype)\u001b[0m\n\u001b[0;32m     86\u001b[0m         \u001b[0mthe\u001b[0m \u001b[0mdtype\u001b[0m \u001b[0margument\u001b[0m \u001b[0mpassed\u001b[0m \u001b[0mto\u001b[0m \u001b[0mcheck_array\u001b[0m\u001b[1;33m.\u001b[0m\u001b[1;33m\u001b[0m\u001b[1;33m\u001b[0m\u001b[0m\n\u001b[0;32m     87\u001b[0m     \"\"\"\n\u001b[1;32m---> 88\u001b[1;33m     \u001b[0mcheck_consistent_length\u001b[0m\u001b[1;33m(\u001b[0m\u001b[0my_true\u001b[0m\u001b[1;33m,\u001b[0m \u001b[0my_pred\u001b[0m\u001b[1;33m)\u001b[0m\u001b[1;33m\u001b[0m\u001b[1;33m\u001b[0m\u001b[0m\n\u001b[0m\u001b[0;32m     89\u001b[0m     \u001b[0my_true\u001b[0m \u001b[1;33m=\u001b[0m \u001b[0mcheck_array\u001b[0m\u001b[1;33m(\u001b[0m\u001b[0my_true\u001b[0m\u001b[1;33m,\u001b[0m \u001b[0mensure_2d\u001b[0m\u001b[1;33m=\u001b[0m\u001b[1;32mFalse\u001b[0m\u001b[1;33m,\u001b[0m \u001b[0mdtype\u001b[0m\u001b[1;33m=\u001b[0m\u001b[0mdtype\u001b[0m\u001b[1;33m)\u001b[0m\u001b[1;33m\u001b[0m\u001b[1;33m\u001b[0m\u001b[0m\n\u001b[0;32m     90\u001b[0m     \u001b[0my_pred\u001b[0m \u001b[1;33m=\u001b[0m \u001b[0mcheck_array\u001b[0m\u001b[1;33m(\u001b[0m\u001b[0my_pred\u001b[0m\u001b[1;33m,\u001b[0m \u001b[0mensure_2d\u001b[0m\u001b[1;33m=\u001b[0m\u001b[1;32mFalse\u001b[0m\u001b[1;33m,\u001b[0m \u001b[0mdtype\u001b[0m\u001b[1;33m=\u001b[0m\u001b[0mdtype\u001b[0m\u001b[1;33m)\u001b[0m\u001b[1;33m\u001b[0m\u001b[1;33m\u001b[0m\u001b[0m\n",
      "\u001b[1;32m~\\anaconda3\\lib\\site-packages\\sklearn\\utils\\validation.py\u001b[0m in \u001b[0;36mcheck_consistent_length\u001b[1;34m(*arrays)\u001b[0m\n\u001b[0;32m    314\u001b[0m     \"\"\"\n\u001b[0;32m    315\u001b[0m \u001b[1;33m\u001b[0m\u001b[0m\n\u001b[1;32m--> 316\u001b[1;33m     \u001b[0mlengths\u001b[0m \u001b[1;33m=\u001b[0m \u001b[1;33m[\u001b[0m\u001b[0m_num_samples\u001b[0m\u001b[1;33m(\u001b[0m\u001b[0mX\u001b[0m\u001b[1;33m)\u001b[0m \u001b[1;32mfor\u001b[0m \u001b[0mX\u001b[0m \u001b[1;32min\u001b[0m \u001b[0marrays\u001b[0m \u001b[1;32mif\u001b[0m \u001b[0mX\u001b[0m \u001b[1;32mis\u001b[0m \u001b[1;32mnot\u001b[0m \u001b[1;32mNone\u001b[0m\u001b[1;33m]\u001b[0m\u001b[1;33m\u001b[0m\u001b[1;33m\u001b[0m\u001b[0m\n\u001b[0m\u001b[0;32m    317\u001b[0m     \u001b[0muniques\u001b[0m \u001b[1;33m=\u001b[0m \u001b[0mnp\u001b[0m\u001b[1;33m.\u001b[0m\u001b[0munique\u001b[0m\u001b[1;33m(\u001b[0m\u001b[0mlengths\u001b[0m\u001b[1;33m)\u001b[0m\u001b[1;33m\u001b[0m\u001b[1;33m\u001b[0m\u001b[0m\n\u001b[0;32m    318\u001b[0m     \u001b[1;32mif\u001b[0m \u001b[0mlen\u001b[0m\u001b[1;33m(\u001b[0m\u001b[0muniques\u001b[0m\u001b[1;33m)\u001b[0m \u001b[1;33m>\u001b[0m \u001b[1;36m1\u001b[0m\u001b[1;33m:\u001b[0m\u001b[1;33m\u001b[0m\u001b[1;33m\u001b[0m\u001b[0m\n",
      "\u001b[1;32m~\\anaconda3\\lib\\site-packages\\sklearn\\utils\\validation.py\u001b[0m in \u001b[0;36m<listcomp>\u001b[1;34m(.0)\u001b[0m\n\u001b[0;32m    314\u001b[0m     \"\"\"\n\u001b[0;32m    315\u001b[0m \u001b[1;33m\u001b[0m\u001b[0m\n\u001b[1;32m--> 316\u001b[1;33m     \u001b[0mlengths\u001b[0m \u001b[1;33m=\u001b[0m \u001b[1;33m[\u001b[0m\u001b[0m_num_samples\u001b[0m\u001b[1;33m(\u001b[0m\u001b[0mX\u001b[0m\u001b[1;33m)\u001b[0m \u001b[1;32mfor\u001b[0m \u001b[0mX\u001b[0m \u001b[1;32min\u001b[0m \u001b[0marrays\u001b[0m \u001b[1;32mif\u001b[0m \u001b[0mX\u001b[0m \u001b[1;32mis\u001b[0m \u001b[1;32mnot\u001b[0m \u001b[1;32mNone\u001b[0m\u001b[1;33m]\u001b[0m\u001b[1;33m\u001b[0m\u001b[1;33m\u001b[0m\u001b[0m\n\u001b[0m\u001b[0;32m    317\u001b[0m     \u001b[0muniques\u001b[0m \u001b[1;33m=\u001b[0m \u001b[0mnp\u001b[0m\u001b[1;33m.\u001b[0m\u001b[0munique\u001b[0m\u001b[1;33m(\u001b[0m\u001b[0mlengths\u001b[0m\u001b[1;33m)\u001b[0m\u001b[1;33m\u001b[0m\u001b[1;33m\u001b[0m\u001b[0m\n\u001b[0;32m    318\u001b[0m     \u001b[1;32mif\u001b[0m \u001b[0mlen\u001b[0m\u001b[1;33m(\u001b[0m\u001b[0muniques\u001b[0m\u001b[1;33m)\u001b[0m \u001b[1;33m>\u001b[0m \u001b[1;36m1\u001b[0m\u001b[1;33m:\u001b[0m\u001b[1;33m\u001b[0m\u001b[1;33m\u001b[0m\u001b[0m\n",
      "\u001b[1;32m~\\anaconda3\\lib\\site-packages\\sklearn\\utils\\validation.py\u001b[0m in \u001b[0;36m_num_samples\u001b[1;34m(x)\u001b[0m\n\u001b[0;32m    257\u001b[0m     \u001b[1;32mif\u001b[0m \u001b[0mhasattr\u001b[0m\u001b[1;33m(\u001b[0m\u001b[0mx\u001b[0m\u001b[1;33m,\u001b[0m \u001b[1;34m'shape'\u001b[0m\u001b[1;33m)\u001b[0m \u001b[1;32mand\u001b[0m \u001b[0mx\u001b[0m\u001b[1;33m.\u001b[0m\u001b[0mshape\u001b[0m \u001b[1;32mis\u001b[0m \u001b[1;32mnot\u001b[0m \u001b[1;32mNone\u001b[0m\u001b[1;33m:\u001b[0m\u001b[1;33m\u001b[0m\u001b[1;33m\u001b[0m\u001b[0m\n\u001b[0;32m    258\u001b[0m         \u001b[1;32mif\u001b[0m \u001b[0mlen\u001b[0m\u001b[1;33m(\u001b[0m\u001b[0mx\u001b[0m\u001b[1;33m.\u001b[0m\u001b[0mshape\u001b[0m\u001b[1;33m)\u001b[0m \u001b[1;33m==\u001b[0m \u001b[1;36m0\u001b[0m\u001b[1;33m:\u001b[0m\u001b[1;33m\u001b[0m\u001b[1;33m\u001b[0m\u001b[0m\n\u001b[1;32m--> 259\u001b[1;33m             raise TypeError(\"Singleton array %r cannot be considered\"\n\u001b[0m\u001b[0;32m    260\u001b[0m                             \" a valid collection.\" % x)\n\u001b[0;32m    261\u001b[0m         \u001b[1;31m# Check that shape is returning an integer or default to len\u001b[0m\u001b[1;33m\u001b[0m\u001b[1;33m\u001b[0m\u001b[0m\n",
      "\u001b[1;31mTypeError\u001b[0m: Singleton array 0.3258988334261558 cannot be considered a valid collection."
     ]
    }
   ],
   "source": [
    "# Calculate the root mean squared error of the predictions\n",
    "rmse = np.sqrt(mean_squared_error(y_test[0], y_pred[:,0]))\n",
    "print('Test RMSE: %.3f' % rmse)"
   ]
  },
  {
   "cell_type": "code",
   "execution_count": null,
   "id": "cd4eefc7",
   "metadata": {},
   "outputs": [],
   "source": []
  }
 ],
 "metadata": {
  "kernelspec": {
   "display_name": "Python 3 (ipykernel)",
   "language": "python",
   "name": "python3"
  },
  "language_info": {
   "codemirror_mode": {
    "name": "ipython",
    "version": 3
   },
   "file_extension": ".py",
   "mimetype": "text/x-python",
   "name": "python",
   "nbconvert_exporter": "python",
   "pygments_lexer": "ipython3",
   "version": "3.9.7"
  }
 },
 "nbformat": 4,
 "nbformat_minor": 5
}
