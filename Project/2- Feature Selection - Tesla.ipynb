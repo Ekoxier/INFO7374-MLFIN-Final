{
 "cells": [
  {
   "cell_type": "code",
   "execution_count": 55,
   "id": "617e7b1f",
   "metadata": {},
   "outputs": [
    {
     "name": "stdout",
     "output_type": "stream",
     "text": [
      "[*********************100%***********************]  1 of 1 completed\n"
     ]
    },
    {
     "name": "stderr",
     "output_type": "stream",
     "text": [
      "/var/folders/2s/jbd9m2gj61n3fk0zl36lyp940000gn/T/ipykernel_7995/4160642726.py:29: SettingWithCopyWarning: \n",
      "A value is trying to be set on a copy of a slice from a DataFrame\n",
      "\n",
      "See the caveats in the documentation: https://pandas.pydata.org/pandas-docs/stable/user_guide/indexing.html#returning-a-view-versus-a-copy\n",
      "  tsla['direction'][0] = 0\n"
     ]
    },
    {
     "name": "stdout",
     "output_type": "stream",
     "text": [
      "[*********************100%***********************]  1 of 1 completed\n",
      "[*********************100%***********************]  1 of 1 completed\n",
      "[*********************100%***********************]  1 of 1 completed\n",
      "[*********************100%***********************]  1 of 1 completed\n",
      "[*********************100%***********************]  1 of 1 completed\n",
      "[*********************100%***********************]  1 of 1 completed\n",
      "[*********************100%***********************]  1 of 1 completed\n",
      "[*********************100%***********************]  1 of 1 completed\n",
      "[*********************100%***********************]  1 of 1 completed\n",
      "[*********************100%***********************]  1 of 1 completed\n",
      "[*********************100%***********************]  1 of 1 completed\n",
      "Top 10 most important features through Decision Trees:\n",
      "AAPL_Adj_Close\n",
      "AMZN_Adj_Close\n",
      "XRP_Adj_Close\n",
      "ADA_Adj_Close\n",
      "Fama_French_SMB\n",
      "Fama_French_HML\n",
      "OBV\n",
      "mom_20_100\n",
      "avg_close_20_days_\n",
      "avg_Close_50_days\n"
     ]
    }
   ],
   "source": [
    "import yfinance as yf\n",
    "import pandas as pd\n",
    "import numpy as np\n",
    "from sklearn.tree import DecisionTreeRegressor\n",
    "from sklearn.linear_model import LassoLarsCV\n",
    "from sklearn.ensemble import RandomForestRegressor\n",
    "from sklearn.linear_model import Ridge\n",
    "import xgboost as xgb\n",
    "from sklearn.feature_selection import SelectFromModel\n",
    "import getFamaFrenchFactors as gff\n",
    "from sklearn.preprocessing import StandardScaler\n",
    "import seaborn as sns\n",
    "import matplotlib.pyplot as plt\n",
    "\n",
    "\n",
    "# Define the ticker symbol for Tesla\n",
    "ticker = 'TSLA'\n",
    "\n",
    "# Define the start and end dates for the data\n",
    "start_date = '2016-01-01'\n",
    "end_date = '2022-01-01'\n",
    "\n",
    "# Download the data from Yahoo Finance\n",
    "tsla = yf.download(ticker, start=start_date, end=end_date)\n",
    "\n",
    "# Calculate OBV\n",
    "tsla['daily_return'] = tsla['Adj Close'].pct_change()\n",
    "tsla['direction'] = np.where(tsla['daily_return'] >= 0, 1, -1)\n",
    "tsla['direction'][0] = 0\n",
    "tsla['vol_adjusted'] = tsla['Volume'] * tsla['direction']\n",
    "tsla['OBV'] = tsla['vol_adjusted'].cumsum()\n",
    "\n",
    "\n",
    "sp500 = yf.download('^GSPC', start=start_date, end=end_date)\n",
    "aapl = yf.download('AAPL', start=start_date, end=end_date)\n",
    "amzn = yf.download('AMZN', start=start_date, end=end_date)\n",
    "goog = yf.download('GOOG', start=start_date, end=end_date)\n",
    "cma = yf.download('CMA', start=start_date, end=end_date)\n",
    "btc = yf.download('BTC-USD', start=start_date, end=end_date)\n",
    "eth = yf.download('ETH-USD', start=start_date, end=end_date)\n",
    "xrp = yf.download('XRP-USD', start=start_date, end=end_date)\n",
    "ltc = yf.download('LTC-USD', start=start_date, end=end_date)\n",
    "ada = yf.download('ADA-USD', start=start_date, end=end_date)\n",
    "vix = yf.download('^VIX', start=start_date, end=end_date)\n",
    "\n",
    "# Calculate additional features\n",
    "tsla['mom_5_20'] = (tsla['Close'] / tsla['Close'].shift(5)) - 1\n",
    "tsla['mom_20_100'] = (tsla['Close'] / tsla['Close'].shift(20)) - 1\n",
    "tsla['mom_60_200'] = (tsla['Close'] / tsla['Close'].shift(60)) - 1\n",
    "\n",
    "# Calculate Fama French 3 factors\n",
    "ff_data = gff.famaFrench3Factor(frequency='m') \n",
    "ff_data.rename(columns={\"date_ff_factors\": 'Date'}, inplace=True)\n",
    "ff_data.set_index('Date',inplace=True)\n",
    "ff_data = ff_data.resample('D').interpolate()\n",
    "\n",
    "\n",
    "\n",
    "\n",
    "# Reset index and convert all dates to same timezones, so they become mergable\n",
    "for x in [sp500,aapl,amzn,goog,tsla,cma,btc,eth,xrp,ltc,ada,ff_data,vix]:\n",
    "    x.reset_index(inplace=True)\n",
    "    x['Date'] =  pd.to_datetime(x['Date']).dt.date\n",
    "\n",
    "tsla = ff_data.merge(tsla,on='Date')\n",
    "    \n",
    "## CORRECTION - Need to merge FF data according to date here\n",
    "\n",
    "df_regressor = pd.DataFrame({\n",
    "    'SP_500_Adj_Close':sp500['Adj Close'].shift(1),\n",
    "    'AAPL_Adj_Close':aapl['Adj Close'].shift(1),\n",
    "    'AMZN_Adj_Close':amzn['Adj Close'].shift(1),\n",
    "    'GOOG_Adj_Close':goog['Adj Close'].shift(1),\n",
    "    'CMA_Adj_Close':cma['Adj Close'].shift(1),\n",
    "    'BTC_Adj_Close':btc['Adj Close'].shift(1),\n",
    "    'ETH_Adj_Close':eth['Adj Close'].shift(1),\n",
    "    'XRP_Adj_Close':xrp['Adj Close'].shift(1),\n",
    "    'LTC_Adj_Close':ltc['Adj Close'].shift(1),\n",
    "    'ADA_Adj_Close':ada['Adj Close'].shift(1),\n",
    "    'Fama_French_Mkt_RF':tsla['Mkt-RF'].shift(1),\n",
    "    'Fama_French_SMB' : tsla['SMB'].shift(1),\n",
    "    'Fama_French_HML' : tsla['HML'].shift(1),\n",
    "    'OBV': tsla['OBV'].shift(1),\n",
    "    'mom_5_20':  tsla['mom_5_20'].shift(1),\n",
    "    'mom_20_100':  tsla['mom_20_100'].shift(1),\n",
    "    'mom_60_200':  tsla['mom_60_200'].shift(1),\n",
    "     'TSLA_CLOSE': tsla['Adj Close'],\n",
    "    'VIX_IDX':vix['Adj Close'].shift(1),\n",
    "    'avg_close_20_days_': tsla['Adj Close'].rolling(window=20).mean(),\n",
    "    'avg_Close_50_days':tsla['Adj Close'].rolling(window=50).mean(),\n",
    "})\n",
    "\n",
    "scaler = StandardScaler()\n",
    "X = scaler.fit_transform(df_regressor)\n",
    "\n",
    "\n",
    "# Remove any rows with missing data\n",
    "df_regressor.dropna(inplace=True)\n",
    "\n",
    "\n",
    "\n",
    "# Split the data into features (X) and target (y)\n",
    "y = df_regressor['TSLA_CLOSE']\n",
    "df_regressor = df_regressor.drop(columns=['TSLA_CLOSE'],axis=1)\n",
    "X = df_regressor\n",
    "# Fit a decision tree model to the data\n",
    "tree = DecisionTreeRegressor(random_state=0)\n",
    "tree.fit(X, y)\n",
    "\n",
    "# Select the top 10 most important features\n",
    "selector_Decision_Trees = SelectFromModel(tree, prefit=True, threshold=-np.inf, max_features=10)\n",
    "selected_features = X.columns[selector_Decision_Trees.get_support()]\n",
    "\n",
    "# Print the top 10 most important features\n",
    "print('Top 10 most important features through Decision Trees:')\n",
    "for feature in selected_features:\n",
    "    print(feature)\n"
   ]
  },
  {
   "cell_type": "code",
   "execution_count": 56,
   "id": "e81dab6c",
   "metadata": {},
   "outputs": [
    {
     "name": "stdout",
     "output_type": "stream",
     "text": [
      "Top 10 most important features (Ridge Regression):\n",
      "- GOOG_Adj_Close\n",
      "- XRP_Adj_Close\n",
      "- ADA_Adj_Close\n",
      "- Fama_French_Mkt_RF\n",
      "- Fama_French_SMB\n",
      "- Fama_French_HML\n",
      "- mom_5_20\n",
      "- mom_20_100\n",
      "- mom_60_200\n",
      "- avg_close_20_days_\n"
     ]
    },
    {
     "name": "stderr",
     "output_type": "stream",
     "text": [
      "/Users/abhinav-m/opt/anaconda3/lib/python3.9/site-packages/sklearn/linear_model/_ridge.py:147: LinAlgWarning: Ill-conditioned matrix (rcond=1.19347e-23): result may not be accurate.\n",
      "  return linalg.solve(A, Xy, sym_pos=True,\n"
     ]
    }
   ],
   "source": [
    "ridge = Ridge(alpha=0.1)\n",
    "ridge.fit(X, y)\n",
    "\n",
    "# Select the top 10 most important features\n",
    "selector_RIDGE = SelectFromModel(ridge, prefit=True, threshold=-np.inf, max_features=10)\n",
    "selected_features = X.columns[selector_RIDGE.get_support()]\n",
    "\n",
    "# Print the top 10 most important features\n",
    "print('Top 10 most important features (Ridge Regression):')\n",
    "for feature in selected_features:\n",
    "      print('-', feature)\n",
    "\n"
   ]
  },
  {
   "cell_type": "code",
   "execution_count": 57,
   "id": "03e34e7c",
   "metadata": {},
   "outputs": [
    {
     "name": "stdout",
     "output_type": "stream",
     "text": [
      "Top 10 most important features (LARS):\n",
      "- AMZN_Adj_Close\n",
      "- CMA_Adj_Close\n",
      "- ETH_Adj_Close\n",
      "- LTC_Adj_Close\n",
      "- Fama_French_Mkt_RF\n",
      "- Fama_French_HML\n",
      "- mom_5_20\n",
      "- mom_20_100\n",
      "- mom_60_200\n",
      "- avg_close_20_days_\n"
     ]
    }
   ],
   "source": [
    "# Fit a LassoLarsCV model to the data\n",
    "lars = LassoLarsCV(cv=5).fit(X, y)\n",
    "\n",
    "# Select the top 10 most important features\n",
    "selector_LARS = SelectFromModel(lars, prefit=True, threshold=-np.inf, max_features=10)\n",
    "selected_features_LARS = X.columns[selector_LARS.get_support()]\n",
    "\n",
    "# Print the top 10 most important features\n",
    "print('Top 10 most important features (LARS):')\n",
    "for feature in selected_features_LARS:\n",
    "      print('-', feature)"
   ]
  },
  {
   "cell_type": "code",
   "execution_count": 58,
   "id": "4953525d",
   "metadata": {},
   "outputs": [
    {
     "name": "stdout",
     "output_type": "stream",
     "text": [
      "Top 10 most important features (RandomForest):\n",
      "- SP_500_Adj_Close\n",
      "- AAPL_Adj_Close\n",
      "- AMZN_Adj_Close\n",
      "- XRP_Adj_Close\n",
      "- Fama_French_SMB\n",
      "- Fama_French_HML\n",
      "- OBV\n",
      "- mom_60_200\n",
      "- avg_close_20_days_\n",
      "- avg_Close_50_days\n"
     ]
    }
   ],
   "source": [
    "# Fit a RandomForest model to the data\n",
    "rf = RandomForestRegressor(random_state=0, n_estimators=100).fit(X, y)\n",
    "\n",
    "# Select the top 10 most important features\n",
    "selector_RF = SelectFromModel(rf, prefit=True, threshold=-np.inf, max_features=10)\n",
    "selected_features = X.columns[selector_RF.get_support()]\n",
    "# selector.estimator.columns\n",
    "# selector.threshold_\n",
    "\n",
    "# Print the top 10 most important features\n",
    "print('Top 10 most important features (RandomForest):')\n",
    "for feature in selected_features:\n",
    "    print('-', feature)"
   ]
  },
  {
   "cell_type": "code",
   "execution_count": 59,
   "id": "63d5a529",
   "metadata": {},
   "outputs": [
    {
     "name": "stdout",
     "output_type": "stream",
     "text": [
      "Top 10 most important features (XGBoost):\n",
      "- SP_500_Adj_Close\n",
      "- AAPL_Adj_Close\n",
      "- AMZN_Adj_Close\n",
      "- CMA_Adj_Close\n",
      "- ETH_Adj_Close\n",
      "- XRP_Adj_Close\n",
      "- Fama_French_HML\n",
      "- OBV\n",
      "- avg_close_20_days_\n",
      "- avg_Close_50_days\n"
     ]
    }
   ],
   "source": [
    "# Fit an XGBoost model to the data\n",
    "xgb_model = xgb.XGBRegressor(random_state=0, n_estimators=100).fit(X, y)\n",
    "\n",
    "# Select the top 10 most important features\n",
    "selector_XGB = SelectFromModel(xgb_model, prefit=True, threshold=-np.inf, max_features=10)\n",
    "selected_features = X.columns[selector_XGB.get_support()]\n",
    "\n",
    "# Print the top 10 most important features\n",
    "print('Top 10 most important features (XGBoost):')\n",
    "for feature in selected_features:\n",
    "    print('-', feature)"
   ]
  },
  {
   "cell_type": "markdown",
   "id": "24816e20",
   "metadata": {},
   "source": [
    "## Doubts\n",
    "1. KDE Estimation - Enough just plotting the stock or actual KDE estimation\n",
    "2. More feature suggestions / Momentum factors \n",
    "\n",
    "3. Class sample (0408) - Why fit linear regression after feature importance?? "
   ]
  },
  {
   "cell_type": "markdown",
   "id": "497f500b",
   "metadata": {},
   "source": [
    "## Notes:\n",
    "- Normalize data before KDE estimation\n",
    "- Graphs / Subplots for different features - Price vs MacD etc"
   ]
  },
  {
   "cell_type": "code",
   "execution_count": 71,
   "id": "d3033958",
   "metadata": {},
   "outputs": [],
   "source": [
    "\n",
    "def plot_features_with_importance(title,selector,n=10):\n",
    "    features_with_importance = sorted(list(zip(selector.estimator.feature_names_in_,selector.estimator.feature_importances_)),key = lambda x: x[1],reverse=True)\n",
    "    features_with_importance = features_with_importance[:n]\n",
    "    df = pd.DataFrame(data={\"Feature Name\":[x[0] for x in features_with_importance],\"Coefficient / Importance\":[x[1] for x in features_with_importance]},columns=[\"Feature Name\",\"Coefficient / Importance\"])\n",
    "    plt.figure(figsize = ( 20 , 10 ))\n",
    "    sns.barplot(x=df['Feature Name'],y=df[\"Coefficient / Importance\"]) \n",
    "    # Set title for figure\n",
    "    plt.title( title , size = 24 )\n",
    "    # Display figure\n",
    "    plt.show()\n",
    "\n",
    "\n",
    "\n"
   ]
  },
  {
   "cell_type": "code",
   "execution_count": 72,
   "id": "9e0ee9f6",
   "metadata": {},
   "outputs": [
    {
     "data": {
      "image/png": "[encoded data removed]",
      "text/plain": [
       "<Figure size 1440x720 with 1 Axes>"
      ]
     },
     "metadata": {
      "needs_background": "light"
     },
     "output_type": "display_data"
    }
   ],
   "source": [
    "plot_features_with_importance(\"XG Boost Feature importance\",selector_XGB,10)"
   ]
  },
  {
   "cell_type": "code",
   "execution_count": 79,
   "id": "4ad4ba36",
   "metadata": {},
   "outputs": [],
   "source": [
    "\n",
    "def plot_features_with_importance_Regressions(title,selector,n=10):\n",
    "    features_with_importance = sorted(list(zip(X.columns,selector.estimator.coef_)),key = lambda x: x[1],reverse=True)\n",
    "    features_with_importance = features_with_importance[:n]\n",
    "    df = pd.DataFrame(data={\"Feature Name\":[x[0] for x in features_with_importance],\"Coefficient / Importance\":[x[1] for x in features_with_importance]},columns=[\"Feature Name\",\"Coefficient / Importance\"])\n",
    "    plt.figure(figsize = ( 20 , 10 ))\n",
    "    sns.barplot(x=df['Feature Name'],y=df[\"Coefficient / Importance\"]) \n",
    "    # Set title for figure\n",
    "    plt.title( title , size = 24 )\n",
    "    # Display figure\n",
    "    plt.show()"
   ]
  },
  {
   "cell_type": "code",
   "execution_count": null,
   "id": "c3a2e6ea",
   "metadata": {},
   "outputs": [],
   "source": [
    "def plot_features_with_importance_Random_forest(title,selector,n=10):\n",
    "    features_with_importance = sorted(list(zip(X.columns,selector.estimator.coef_)),key = lambda x: x[1],reverse=True)\n",
    "    features_with_importance = features_with_importance[:n]\n",
    "    df = pd.DataFrame(data={\"Feature Name\":[x[0] for x in features_with_importance],\"Coefficient / Importance\":[x[1] for x in features_with_importance]},columns=[\"Feature Name\",\"Coefficient / Importance\"])\n",
    "    plt.figure(figsize = ( 20 , 10 ))\n",
    "    sns.barplot(x=df['Feature Name'],y=df[\"Coefficient / Importance\"]) \n",
    "    # Set title for figure\n",
    "    plt.title( title , size = 24 )\n",
    "    # Display figure\n",
    "    plt.show()\n",
    "    selector_RF.estimator.feature_importances_"
   ]
  },
  {
   "cell_type": "code",
   "execution_count": 81,
   "id": "4427dfe7",
   "metadata": {},
   "outputs": [
    {
     "data": {
      "image/png": "[encoded data removed]",
      "text/plain": [
       "<Figure size 1440x720 with 1 Axes>"
      ]
     },
     "metadata": {
      "needs_background": "light"
     },
     "output_type": "display_data"
    }
   ],
   "source": [
    "plot_features_with_importance_Regressions(\"LARS Feature importance\",selector_LARS,10)\n"
   ]
  },
  {
   "cell_type": "code",
   "execution_count": 84,
   "id": "0666d9ca",
   "metadata": {},
   "outputs": [
    {
     "data": {
      "image/png": "[encoded data removed]",
      "text/plain": [
       "<Figure size 1440x720 with 1 Axes>"
      ]
     },
     "metadata": {
      "needs_background": "light"
     },
     "output_type": "display_data"
    }
   ],
   "source": [
    "plot_features_with_importance_Regressions(\"Ridge Regression Feature importance\",selector_RIDGE,10)\n"
   ]
  },
  {
   "cell_type": "code",
   "execution_count": null,
   "id": "eca33511",
   "metadata": {},
   "outputs": [],
   "source": [
    "plot_features_with_importance_Regressions(\"Ridge Feature importance\",selector,10)\n"
   ]
  }
 ],
 "metadata": {
  "kernelspec": {
   "display_name": "Python 3 (ipykernel)",
   "language": "python",
   "name": "python3"
  },
  "language_info": {
   "codemirror_mode": {
    "name": "ipython",
    "version": 3
   },
   "file_extension": ".py",
   "mimetype": "text/x-python",
   "name": "python",
   "nbconvert_exporter": "python",
   "pygments_lexer": "ipython3",
   "version": "3.9.7"
  },
  "vscode": {
   "interpreter": {
    "hash": "aee8b7b246df8f9039afb4144a1f6fd8d2ca17a180786b69acc140d282b71a49"
   }
  }
 },
 "nbformat": 4,
 "nbformat_minor": 5
}
