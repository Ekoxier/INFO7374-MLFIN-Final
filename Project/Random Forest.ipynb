{
 "cells": [
  {
   "cell_type": "code",
   "execution_count": 2,
   "id": "64e9bec4",
   "metadata": {},
   "outputs": [],
   "source": [
    "import numpy as np\n",
    "import pandas as pd\n",
    "import matplotlib.pyplot as plt\n",
    "from datetime import datetime\n",
    "from scipy.optimize import minimize\n",
    "from pandas_datareader import DataReader\n",
    "import seaborn as sns; sns.set(color_codes=True)\n",
    "import yfinance as yf\n",
    "from ta.momentum import RSIIndicator\n",
    "from ta.trend import MACD\n",
    "import getFamaFrenchFactors as gff\n",
    "from sklearn.preprocessing import StandardScaler\n",
    "from sklearn.tree import DecisionTreeRegressor\n",
    "from sklearn.model_selection import train_test_split\n",
    "from sklearn.ensemble import RandomForestRegressor\n",
    "from sklearn.metrics import mean_squared_error"
   ]
  },
  {
   "cell_type": "code",
   "execution_count": 3,
   "id": "4afe0f3b",
   "metadata": {},
   "outputs": [
    {
     "name": "stdout",
     "output_type": "stream",
     "text": [
      "[*********************100%***********************]  1 of 1 completed\n"
     ]
    }
   ],
   "source": [
    "start = '2021-4-16'\n",
    "end = '2023-4-16'\n",
    "tesla = yf.download('TSLA', start, end)\n",
    "\n",
    "tesla.index = pd.to_datetime(tesla.index)\n",
    "tesla['Date'] = tesla.index.date\n",
    "tesla.set_index('Date', inplace=True)\n",
    "\n",
    "tesla=tesla.reset_index()\n"
   ]
  },
  {
   "cell_type": "code",
   "execution_count": 4,
   "id": "424f3971",
   "metadata": {},
   "outputs": [
    {
     "name": "stderr",
     "output_type": "stream",
     "text": [
      "C:\\Users\\Umama Poonawala\\AppData\\Local\\Temp\\ipykernel_31384\\574244428.py:5: SettingWithCopyWarning: \n",
      "A value is trying to be set on a copy of a slice from a DataFrame\n",
      "\n",
      "See the caveats in the documentation: https://pandas.pydata.org/pandas-docs/stable/user_guide/indexing.html#returning-a-view-versus-a-copy\n",
      "  tsla['direction'][0] = 0\n"
     ]
    }
   ],
   "source": [
    "# Calculate OBV\n",
    "tsla = tesla.copy()\n",
    "tsla['daily_return'] = tsla['Adj Close'].pct_change()\n",
    "tsla['direction'] = np.where(tsla['daily_return'] >= 0, 1, -1)\n",
    "tsla['direction'][0] = 0\n",
    "tsla['vol_adjusted'] = tsla['Volume'] * tsla['direction']\n",
    "tsla['OBV'] = tsla['vol_adjusted'].cumsum()\n",
    "\n",
    "# Calculate additional features\n",
    "tsla['mom_5_20'] = (tsla['Close'] / tsla['Close'].shift(5)) - 1\n",
    "tsla['mom_20_100'] = (tsla['Close'] / tsla['Close'].shift(20)) - 1\n",
    "tsla['mom_60_200'] = (tsla['Close'] / tsla['Close'].shift(60)) - 1\n",
    "\n",
    "rsi_indicator = RSIIndicator(close=tsla['Adj Close'], window=14)\n",
    "macd_indicator = MACD(close=tsla['Adj Close'])\n",
    "\n",
    "tsla['rsi'] = rsi_indicator.rsi()\n",
    "tsla['macd'] = macd_indicator.macd()\n",
    "\n",
    "# Calculate Fama French 3 factors\n",
    "ff_data = gff.famaFrench3Factor(frequency='m') \n",
    "ff_data.rename(columns={\"date_ff_factors\": 'Date'}, inplace=True)\n",
    "ff_data.set_index('Date',inplace=True)\n",
    "ff_data = ff_data.resample('D').interpolate()\n",
    "\n",
    "# Reset index and convert all dates to same timezones, so they become mergable\n",
    "ff_data.reset_index(inplace=True)\n",
    "ff_data['Date'] = pd.to_datetime(ff_data['Date']).dt.date\n",
    "\n",
    "tsla = ff_data.merge(tsla,on='Date')\n",
    "tesla_returns = pd.DataFrame({\n",
    "    'avg_close_20_days_': tsla['Adj Close'].rolling(window=20).mean().shift(1),\n",
    "    'Fama_French_Mkt_RF':tsla['Mkt-RF'].shift(1),\n",
    "    'mom_60_200':  tsla['mom_60_200'].shift(1),\n",
    "    'TSLA_MACD':tsla['macd'].shift(1),\n",
    "    'Fama_French_HML' : tsla['HML'].shift(1),\n",
    "    'TSLA_CLOSE': tsla['Adj Close']\n",
    "})\n",
    "\n",
    "tesla_returns.dropna(inplace=True)\n",
    "\n",
    "scaler = StandardScaler()\n",
    "X = scaler.fit_transform(tesla_returns)"
   ]
  },
  {
   "cell_type": "code",
   "execution_count": 5,
   "id": "db406fe7",
   "metadata": {},
   "outputs": [],
   "source": [
    "# Split the data into features (X) and target (y)\n",
    "y = tesla_returns['TSLA_CLOSE']\n",
    "X = tesla_returns.drop(columns=['TSLA_CLOSE'],axis=1)\n",
    "X_train, X_test, y_train, y_test = train_test_split(X, y, test_size=0.2, random_state=42)"
   ]
  },
  {
   "cell_type": "code",
   "execution_count": 9,
   "id": "80ea8bd9",
   "metadata": {
    "scrolled": true
   },
   "outputs": [
    {
     "name": "stdout",
     "output_type": "stream",
     "text": [
      "RMSE value is: 12.64888297213868\n"
     ]
    }
   ],
   "source": [
    "# Define the model and fit the data\n",
    "rf_model = RandomForestRegressor(n_estimators=100, random_state=42)\n",
    "rf_model.fit(X_train, y_train)\n",
    "\n",
    "# Make predictions on the test set\n",
    "y_pred = rf_model.predict(X_test)\n",
    "\n",
    "# Evaluate the model performance using mean squared error\n",
    "mse = mean_squared_error(y_test, y_pred)\n",
    "rmse = np.sqrt(mse)\n",
    "print('RMSE value is:', rmse)                                                                      "
   ]
  }
 ],
 "metadata": {
  "kernelspec": {
   "display_name": "Python 3 (ipykernel)",
   "language": "python",
   "name": "python3"
  },
  "language_info": {
   "codemirror_mode": {
    "name": "ipython",
    "version": 3
   },
   "file_extension": ".py",
   "mimetype": "text/x-python",
   "name": "python",
   "nbconvert_exporter": "python",
   "pygments_lexer": "ipython3",
   "version": "3.9.12"
  }
 },
 "nbformat": 4,
 "nbformat_minor": 5
}
